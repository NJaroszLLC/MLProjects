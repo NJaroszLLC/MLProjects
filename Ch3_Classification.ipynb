{
 "cells": [
  {
   "cell_type": "markdown",
   "id": "dcf61b70",
   "metadata": {},
   "source": [
    "## **MNIST Classification w/ KNN**"
   ]
  },
  {
   "cell_type": "code",
   "execution_count": 1,
   "id": "f457b176",
   "metadata": {},
   "outputs": [
    {
     "data": {
      "text/plain": [
       "(70000, 784)"
      ]
     },
     "execution_count": 1,
     "metadata": {},
     "output_type": "execute_result"
    }
   ],
   "source": [
    "from sklearn.datasets import fetch_openml\n",
    "mnist_X, mnist_y = fetch_openml('mnist_784', version=1, return_X_y=True)"
   ]
  },
  {
   "cell_type": "code",
   "execution_count": 11,
   "id": "c66b9b87",
   "metadata": {},
   "outputs": [
    {
     "data": {
      "text/plain": [
       "(9996, 784)"
      ]
     },
     "execution_count": 11,
     "metadata": {},
     "output_type": "execute_result"
    }
   ],
   "source": [
    "from sklearn.model_selection import train_test_split\n",
    "\n",
    "X_train, X_test, y_train, y_test = train_test_split(mnist_X, mnist_y, test_size=.1428, random_state=42)\n",
    "X_test.shape"
   ]
  },
  {
   "cell_type": "code",
   "execution_count": 15,
   "id": "446b8e7c",
   "metadata": {},
   "outputs": [
    {
     "name": "stdout",
     "output_type": "stream",
     "text": [
      "Fitting 5 folds for each of 8 candidates, totalling 40 fits\n",
      "[CV 1/5] END .................n_neighbors=3, weights=uniform; total time=  16.5s\n",
      "[CV 2/5] END .................n_neighbors=3, weights=uniform; total time=  16.5s\n",
      "[CV 3/5] END .................n_neighbors=3, weights=uniform; total time=  16.7s\n",
      "[CV 4/5] END .................n_neighbors=3, weights=uniform; total time=  16.6s\n",
      "[CV 5/5] END .................n_neighbors=3, weights=uniform; total time=  16.7s\n",
      "[CV 1/5] END ................n_neighbors=3, weights=distance; total time=  16.4s\n",
      "[CV 2/5] END ................n_neighbors=3, weights=distance; total time=  16.6s\n",
      "[CV 3/5] END ................n_neighbors=3, weights=distance; total time=  18.2s\n",
      "[CV 4/5] END ................n_neighbors=3, weights=distance; total time=  16.9s\n",
      "[CV 5/5] END ................n_neighbors=3, weights=distance; total time=  16.9s\n",
      "[CV 1/5] END .................n_neighbors=5, weights=uniform; total time=  20.4s\n",
      "[CV 2/5] END .................n_neighbors=5, weights=uniform; total time=  20.2s\n",
      "[CV 3/5] END .................n_neighbors=5, weights=uniform; total time=  20.4s\n",
      "[CV 4/5] END .................n_neighbors=5, weights=uniform; total time=  20.0s\n",
      "[CV 5/5] END .................n_neighbors=5, weights=uniform; total time=  19.4s\n",
      "[CV 1/5] END ................n_neighbors=5, weights=distance; total time=  19.9s\n",
      "[CV 2/5] END ................n_neighbors=5, weights=distance; total time=  19.9s\n",
      "[CV 3/5] END ................n_neighbors=5, weights=distance; total time=  20.1s\n",
      "[CV 4/5] END ................n_neighbors=5, weights=distance; total time=  19.9s\n",
      "[CV 5/5] END ................n_neighbors=5, weights=distance; total time=  18.9s\n",
      "[CV 1/5] END .................n_neighbors=7, weights=uniform; total time=  20.6s\n",
      "[CV 2/5] END .................n_neighbors=7, weights=uniform; total time=  21.1s\n",
      "[CV 3/5] END .................n_neighbors=7, weights=uniform; total time=  23.2s\n",
      "[CV 4/5] END .................n_neighbors=7, weights=uniform; total time=  20.2s\n",
      "[CV 5/5] END .................n_neighbors=7, weights=uniform; total time=  19.7s\n",
      "[CV 1/5] END ................n_neighbors=7, weights=distance; total time=  19.9s\n",
      "[CV 2/5] END ................n_neighbors=7, weights=distance; total time=  20.0s\n",
      "[CV 3/5] END ................n_neighbors=7, weights=distance; total time=  20.2s\n",
      "[CV 4/5] END ................n_neighbors=7, weights=distance; total time=  20.2s\n",
      "[CV 5/5] END ................n_neighbors=7, weights=distance; total time=  19.2s\n",
      "[CV 1/5] END .................n_neighbors=9, weights=uniform; total time=  21.4s\n",
      "[CV 2/5] END .................n_neighbors=9, weights=uniform; total time=  20.6s\n",
      "[CV 3/5] END .................n_neighbors=9, weights=uniform; total time=  21.0s\n",
      "[CV 4/5] END .................n_neighbors=9, weights=uniform; total time=  20.5s\n",
      "[CV 5/5] END .................n_neighbors=9, weights=uniform; total time=  19.4s\n",
      "[CV 1/5] END ................n_neighbors=9, weights=distance; total time=  20.1s\n",
      "[CV 2/5] END ................n_neighbors=9, weights=distance; total time=  20.1s\n",
      "[CV 3/5] END ................n_neighbors=9, weights=distance; total time=  20.7s\n",
      "[CV 4/5] END ................n_neighbors=9, weights=distance; total time=  20.9s\n",
      "[CV 5/5] END ................n_neighbors=9, weights=distance; total time=  19.7s\n"
     ]
    },
    {
     "data": {
      "text/plain": [
       "GridSearchCV(estimator=KNeighborsClassifier(),\n",
       "             param_grid=[{'n_neighbors': [3, 5, 7, 9],\n",
       "                          'weights': ['uniform', 'distance']}],\n",
       "             verbose=3)"
      ]
     },
     "execution_count": 15,
     "metadata": {},
     "output_type": "execute_result"
    }
   ],
   "source": [
    "from sklearn.neighbors import KNeighborsClassifier\n",
    "from sklearn.model_selection import GridSearchCV\n",
    "\n",
    "knc = KNeighborsClassifier()\n",
    "param_grid = [\n",
    "    {'n_neighbors': [3,5,7,9], 'weights': ['uniform', 'distance']}\n",
    "]\n",
    "\n",
    "grid_search = GridSearchCV(knc, param_grid, verbose=3)\n",
    "\n",
    "grid_search.fit(X_train, y_train)"
   ]
  },
  {
   "cell_type": "code",
   "execution_count": 16,
   "id": "db2f863e",
   "metadata": {},
   "outputs": [
    {
     "data": {
      "text/plain": [
       "KNeighborsClassifier(n_neighbors=3, weights='distance')"
      ]
     },
     "execution_count": 16,
     "metadata": {},
     "output_type": "execute_result"
    }
   ],
   "source": [
    "grid_search.best_estimator_"
   ]
  },
  {
   "cell_type": "code",
   "execution_count": 17,
   "id": "6d49affc",
   "metadata": {},
   "outputs": [
    {
     "data": {
      "text/plain": [
       "0.9721351651251284"
      ]
     },
     "execution_count": 17,
     "metadata": {},
     "output_type": "execute_result"
    }
   ],
   "source": [
    "grid_search.best_score_"
   ]
  },
  {
   "cell_type": "code",
   "execution_count": 18,
   "id": "936a2a02",
   "metadata": {},
   "outputs": [
    {
     "data": {
      "text/plain": [
       "0.9729891956782714"
      ]
     },
     "execution_count": 18,
     "metadata": {},
     "output_type": "execute_result"
    }
   ],
   "source": [
    "from sklearn.metrics import accuracy_score\n",
    "\n",
    "my_model = grid_search.best_estimator_\n",
    "\n",
    "predictions = my_model.predict(X_test)\n",
    "accuracy_score(y_test, predictions)"
   ]
  }
 ],
 "metadata": {
  "kernelspec": {
   "display_name": "Python [conda env:DataProjects] *",
   "language": "python",
   "name": "conda-env-DataProjects-py"
  },
  "language_info": {
   "codemirror_mode": {
    "name": "ipython",
    "version": 3
   },
   "file_extension": ".py",
   "mimetype": "text/x-python",
   "name": "python",
   "nbconvert_exporter": "python",
   "pygments_lexer": "ipython3",
   "version": "3.8.8"
  }
 },
 "nbformat": 4,
 "nbformat_minor": 5
}
