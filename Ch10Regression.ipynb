{
 "cells": [
  {
   "cell_type": "code",
   "execution_count": 1,
   "metadata": {},
   "outputs": [],
   "source": [
    "import tensorflow as tf\n",
    "from tensorflow import keras\n",
    "from sklearn.datasets import fetch_california_housing\n",
    "from sklearn.model_selection import train_test_split\n",
    "from sklearn.preprocessing import StandardScaler"
   ]
  },
  {
   "cell_type": "code",
   "execution_count": 2,
   "metadata": {},
   "outputs": [],
   "source": [
    "housing = fetch_california_housing()\n",
    "X_train_full, X_test, y_train_full, y_test = train_test_split(housing.data, housing.target)\n",
    "X_train, X_valid, y_train, y_valid = train_test_split(X_train_full, y_train_full)\n",
    "\n",
    "scaler = StandardScaler()\n",
    "X_train = scaler.fit_transform(X_train)\n",
    "X_valid = scaler.transform(X_valid)\n",
    "X_test = scaler.transform(X_test)"
   ]
  },
  {
   "cell_type": "code",
   "execution_count": 3,
   "metadata": {},
   "outputs": [
    {
     "name": "stdout",
     "output_type": "stream",
     "text": [
      "Epoch 1/20\n",
      "  1/363 [..............................] - ETA: 0s - loss: 5.1621WARNING:tensorflow:Callbacks method `on_train_batch_end` is slow compared to the batch time (batch time: 0.0000s vs `on_train_batch_end` time: 0.0010s). Check your callbacks.\n",
      "363/363 [==============================] - 0s 896us/step - loss: 2.4913 - val_loss: 0.9657\n",
      "Epoch 2/20\n",
      "363/363 [==============================] - 0s 615us/step - loss: 0.7629 - val_loss: 0.7065\n",
      "Epoch 3/20\n",
      "363/363 [==============================] - 0s 725us/step - loss: 0.6394 - val_loss: 0.6568\n",
      "Epoch 4/20\n",
      "363/363 [==============================] - 0s 645us/step - loss: 0.6015 - val_loss: 0.6352\n",
      "Epoch 5/20\n",
      "363/363 [==============================] - 0s 714us/step - loss: 0.5802 - val_loss: 0.6184\n",
      "Epoch 6/20\n",
      "363/363 [==============================] - 0s 628us/step - loss: 0.5637 - val_loss: 0.6063\n",
      "Epoch 7/20\n",
      "363/363 [==============================] - 0s 760us/step - loss: 0.5504 - val_loss: 0.5918\n",
      "Epoch 8/20\n",
      "363/363 [==============================] - 0s 904us/step - loss: 0.5372 - val_loss: 0.5800\n",
      "Epoch 9/20\n",
      "363/363 [==============================] - 0s 642us/step - loss: 0.5262 - val_loss: 0.5683\n",
      "Epoch 10/20\n",
      "363/363 [==============================] - 0s 709us/step - loss: 0.5159 - val_loss: 0.5588\n",
      "Epoch 11/20\n",
      "363/363 [==============================] - 0s 887us/step - loss: 0.5069 - val_loss: 0.5504\n",
      "Epoch 12/20\n",
      "363/363 [==============================] - 0s 725us/step - loss: 0.4991 - val_loss: 0.5443\n",
      "Epoch 13/20\n",
      "363/363 [==============================] - 0s 664us/step - loss: 0.4932 - val_loss: 0.5384\n",
      "Epoch 14/20\n",
      "363/363 [==============================] - 0s 653us/step - loss: 0.4872 - val_loss: 0.5315\n",
      "Epoch 15/20\n",
      "363/363 [==============================] - 0s 666us/step - loss: 0.4831 - val_loss: 0.5282\n",
      "Epoch 16/20\n",
      "363/363 [==============================] - 0s 788us/step - loss: 0.4792 - val_loss: 0.5240\n",
      "Epoch 17/20\n",
      "363/363 [==============================] - 0s 639us/step - loss: 0.4756 - val_loss: 0.5214\n",
      "Epoch 18/20\n",
      "363/363 [==============================] - 0s 791us/step - loss: 0.4733 - val_loss: 0.5159\n",
      "Epoch 19/20\n",
      "363/363 [==============================] - 0s 689us/step - loss: 0.4704 - val_loss: 0.5139\n",
      "Epoch 20/20\n",
      "363/363 [==============================] - 0s 638us/step - loss: 0.4683 - val_loss: 0.5134\n",
      "162/162 [==============================] - 0s 555us/step - loss: 0.5105\n"
     ]
    }
   ],
   "source": [
    "input_A = keras.layers.Input(shape=[5], name=\"wide_in\")\n",
    "input_B = keras.layers.Input(shape=[6], name=\"deep_in\")\n",
    "hidden1 = keras.layers.Dense(30, activation='relu')(input_B)\n",
    "hidden2 = keras.layers.Dense(30, activation='relu')(hidden1)\n",
    "concat = keras.layers.concatenate([input_A, hidden2])\n",
    "output = keras.layers.Dense(1, name=\"out\")(concat)\n",
    "model = keras.Model(inputs=[input_A, input_B], outputs=[output])\n",
    "\n",
    "model.compile(loss=\"mse\", optimizer=keras.optimizers.SGD(lr=1e-3))\n",
    "\n",
    "X_train_A, X_train_B = X_train[:, :5], X_train[:, 2:]\n",
    "X_valid_A, X_valid_B = X_valid[:, :5], X_valid[:, 2:]\n",
    "X_test_A, X_test_B = X_test[:, :5], X_test[:, 2:]\n",
    "\n",
    "history = model.fit((X_train_A, X_train_B), y_train, epochs=20, validation_data=((X_valid_A, X_valid_B), y_valid))\n",
    "mse_test = model.evaluate((X_test_A, X_test_B), y_test)"
   ]
  },
  {
   "cell_type": "code",
   "execution_count": null,
   "metadata": {},
   "outputs": [],
   "source": []
  }
 ],
 "metadata": {
  "kernelspec": {
   "display_name": "Python [conda env:DataProjects]",
   "language": "python",
   "name": "conda-env-DataProjects-py"
  },
  "language_info": {
   "codemirror_mode": {
    "name": "ipython",
    "version": 3
   },
   "file_extension": ".py",
   "mimetype": "text/x-python",
   "name": "python",
   "nbconvert_exporter": "python",
   "pygments_lexer": "ipython3",
   "version": "3.8.8"
  }
 },
 "nbformat": 4,
 "nbformat_minor": 5
}
